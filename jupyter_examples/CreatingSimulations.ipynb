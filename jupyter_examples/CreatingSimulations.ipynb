{
 "cells": [
  {
   "cell_type": "markdown",
   "metadata": {},
   "source": [
    "Here we will create a simulation in two ways. First, we will load solar system bodies from NASA's HORIZONS database. Then, we will create a system from scratch by adding a star and then one planet at a time. Once we have saved a simulation, we can then calculate the musical pitches that correspond to each orbiting body."
   ]
  },
  {
   "cell_type": "markdown",
   "metadata": {},
   "source": [
    "# Adding particles using NASA JPL Horizons Database\n",
    "Solar system bodies in the Horizons database can be added to a simulation using either their IAU name or their NAIF-ID number (https://naif.jpl.nasa.gov/pub/naif/toolkit_docs/MATLAB/req/naif_ids.html). As an example we will load Saturn and its major moons on June 4, 2017 at 5:00 UTC. If no date is specified, rebound will use the current date (when the first particle is added). Either way, this date is cached and used for all other objects that are added to the simulation. Note that running this cell this will overwrite any simulation with the same name!\n",
    "\n",
    "For more information on using the Horizons database with REBOUND see: http://rebound.readthedocs.io/en/latest/ipython/Horizons.html"
   ]
  },
  {
   "cell_type": "code",
   "execution_count": 1,
   "metadata": {
    "collapsed": false
   },
   "outputs": [
    {
     "name": "stdout",
     "output_type": "stream",
     "text": [
      "Searching NASA Horizons for 'Saturn'... Found: Saturn Barycenter (6).\n",
      "Searching NASA Horizons for 'Mimas'... Found: Mimas (601).\n",
      "Searching NASA Horizons for 'Enceladus'... Found: Enceladus (602).\n",
      "Searching NASA Horizons for 'Tethys'... Found: Tethys (603).\n",
      "Searching NASA Horizons for 'Dione'... Found: Dione (604).\n",
      "Searching NASA Horizons for 'Rhea'... Found: Rhea (605).\n",
      "Searching NASA Horizons for 'Titan'... Found: Titan (606).\n",
      "Searching NASA Horizons for 'Iapetus'... Found: Iapetus (608).\n"
     ]
    }
   ],
   "source": [
    "import sys\n",
    "sys.path.append('../')\n",
    "import rebound\n",
    "filename = \"test.bin\"\n",
    "\n",
    "date = \"2017-06-04 05:00\"\n",
    "sim = rebound.Simulation()\n",
    "sim.add(\"Saturn\", date=date)\n",
    "sim.add(\"Mimas\")\n",
    "sim.add(\"Enceladus\")\n",
    "sim.add(\"Tethys\")\n",
    "sim.add(\"Dione\")\n",
    "sim.add(\"Rhea\")\n",
    "sim.add(\"Titan\")\n",
    "sim.add(\"Iapetus\")\n",
    "    \n",
    "sim.move_to_com()\n",
    "sim.save(\"../binaries/\"+filename)"
   ]
  },
  {
   "cell_type": "markdown",
   "metadata": {},
   "source": [
    "Saving the simulation like we did at the bottom lets us later reload the same simulation quickly without having to query HORIZONS.\n",
    "\n",
    "# Creating A System From Scratch\n",
    "You can also create a new planetary system with arbitrary masses and orbital parameters. As an example, we will add a star with the mass of the sun and then 3 low mass planets at the right semi-major axes so that their orbital frequencies will create a major chord. We will place the planets on circular, non-inclined orbits but at random longitudes.\n",
    "\n",
    "More technical information on orbital elements in REBOUND can be found here: http://rebound.readthedocs.io/en/latest/ipython/OrbitalElements.html"
   ]
  },
  {
   "cell_type": "code",
   "execution_count": 16,
   "metadata": {
    "collapsed": false
   },
   "outputs": [],
   "source": [
    "import sys\n",
    "sys.path.append('../')\n",
    "import systemsounds as ss\n",
    "import numpy as np\n",
    "import rebound\n",
    "import random\n",
    "filename = \"majorchord.bin\"\n",
    "\n",
    "sim = rebound.Simulation()\n",
    "sim.units = ['Msun', 'yr', 'AU']\n",
    "\n",
    "sim.add(m=1.)  #add 2 Solar mass star at the origin\n",
    "m_planet=1e-6     #planet mass, in units of solar masses \n",
    "\n",
    "#add the 3 planets, ordered from the inside (shortest orbital period) out\n",
    "#you can also set non-zero eccentricty, inclination and other orbital parameters \n",
    "sim.add(m=m_planet, P=2./3., e=0., inc=0., theta=2.*np.pi*np.random.rand()) # perfect 5th above outer planet (2:3 resonance)\n",
    "sim.add(m=m_planet, P=4./5., theta=2.*np.pi*np.random.rand()) # major 3rd above outer planet (4:5 resonance)\n",
    "sim.add(m=m_planet, P=1, theta=2.*np.pi*np.random.rand()) # period = 1 year\n",
    " \n",
    "sim.move_to_com()\n",
    "sim.save(\"../binaries/\"+filename)"
   ]
  },
  {
   "cell_type": "markdown",
   "metadata": {},
   "source": [
    "# Calculating The Pitches Of A Planetary System\n",
    "Once a simulation has been created, we can load it here and calculate the musical pitches associated with each planet. In WritingMIDIfile.ipynb, this algorithm is used to assign pitches to planets but the notes must be rounded to standard pitches to be expressed in MIDI. Here, we will see what the exact pitches would be without rounding. You may want to recover these frequencies by loading the MIDI file into a Digital Audio Workstation (Garageband, Logic, ProTools), splitting the midi file into separate tracks for each note, and then using a pitch shifter plugin.\n",
    "\n",
    "We calculate the pitches of our system by choosing an arbitrary base frequency for one of the planets and then calulating the pitches of the other planets relative to it. If you know the actual orbital period of one of the objects, you can instead specify the number of octaves you'd like to increase the pitch by. As an example, we'll load majorchord.sim and scale the frequencies so that the outer planet corresponds to C4. You may notice that planets with exact whole number period ratios do not correspond to exact standard pitches due to the discrepancy between 'Just' and 'Even' temperament."
   ]
  },
  {
   "cell_type": "code",
   "execution_count": 19,
   "metadata": {
    "collapsed": false
   },
   "outputs": [
    {
     "name": "stdout",
     "output_type": "stream",
     "text": [
      "\n",
      "Notes and offsets:\n",
      "Planet 1 : G4 +2.0 cents  =  392.4 Hz\n",
      "Planet 2 : E4 -13.7 cents  =  327.0 Hz\n",
      "Planet 3 : C4 +0.0 cents  =  261.6 Hz\n"
     ]
    }
   ],
   "source": [
    "notenames = [\"C\", \"C#\", \"D\", \"D#\", \"E\", \"F\", \"F#\", \"G\", \"G#\", \"A\", \"A#\", \"B\"]\n",
    "f_A4 = 440.\n",
    "f_C0 = f_A4*pow(2, -4.75014)\n",
    "\n",
    "def pitch(freq):\n",
    "    h = int(round(12*np.log2(freq/f_C0)))\n",
    "    octave = h // 12\n",
    "    n = h % 12\n",
    "    f0=f_C0*2**(h/12.)\n",
    "    cent = 1200*np.log2(freq/f0)\n",
    "    return '{0} {1:+.1f} cents'.format(notenames[n]+str(octave),cent)\n",
    "\n",
    "filename = \"../binaries/majorchord.bin\"\n",
    "sim = rebound.Simulation.from_file(filename)\n",
    "\n",
    "#set outermost planet to the frequency of C4 (or any other frequncy in Hz)\n",
    "f_C4=f_C0*pow(2, 4)\n",
    "basefreq=f_C4\n",
    "\n",
    "##OR: scale up orbital frequencies by a set number of octaves\n",
    "#Pouter=1.*3.154e7 #1 year in seconds (orbital oeriod of outermost planet)\n",
    "#octaves=22\n",
    "#basefreq=pow(2.,octaves)/Pouter\n",
    "\n",
    "baseperiod=sim.particles[-1].P\n",
    "freqs=[basefreq*baseperiod/sim.particles[i].P for i in range(1,sim.N)]\n",
    "print('\\nNotes and offsets:')\n",
    "for i in range(1,sim.N):\n",
    "    print('Planet '+str(i)+' : '+ pitch(freqs[i-1]),' = ',np.round(freqs[i-1],2), 'Hz')"
   ]
  },
  {
   "cell_type": "code",
   "execution_count": null,
   "metadata": {
    "collapsed": true
   },
   "outputs": [],
   "source": []
  }
 ],
 "metadata": {
  "kernelspec": {
   "display_name": "Python 3",
   "language": "python",
   "name": "python3"
  },
  "language_info": {
   "codemirror_mode": {
    "name": "ipython",
    "version": 3
   },
   "file_extension": ".py",
   "mimetype": "text/x-python",
   "name": "python",
   "nbconvert_exporter": "python",
   "pygments_lexer": "ipython3",
   "version": "3.5.1"
  }
 },
 "nbformat": 4,
 "nbformat_minor": 2
}
