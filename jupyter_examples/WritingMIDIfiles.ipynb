{
 "cells": [
  {
   "cell_type": "markdown",
   "metadata": {},
   "source": [
    "# Setup\n",
    "\n",
    "We begin by importing what we need, and loading a simulation. We rescale the time for convenience so that a simulation time of 1 corresponds to one orbit of the outermost planet. This counts as 1 beat in the midi file so that in 4/4 time the outermost planet will orbit 4 times in each bar."
   ]
  },
  {
   "cell_type": "code",
   "execution_count": 5,
   "metadata": {
    "collapsed": true
   },
   "outputs": [],
   "source": [
    "import sys\n",
    "sys.path.append('../')\n",
    "import systemsounds as ss\n",
    "import numpy as np\n",
    "import rebound\n",
    "filename = \"../binaries/trappist.bin\"\n",
    "sim = rebound.Simulation.from_file(filename)\n",
    "sim.t = 0\n",
    "ss.rescale_time(sim, sim.particles[-1].P)"
   ]
  },
  {
   "cell_type": "markdown",
   "metadata": {},
   "source": [
    "Here we choose to add notes every time there is a transit or conjunction, so we add an `EventRecorder` for each of them. We choose to stagger planets in for the MIDI, so we initially set an empty list of target particles for finding the events, and update them later. "
   ]
  },
  {
   "cell_type": "code",
   "execution_count": 6,
   "metadata": {
    "collapsed": true
   },
   "outputs": [],
   "source": [
    "transits = ss.EventRecorder(sim, lambda sim, i: sim.particles[i].y, targets=[])\n",
    "conjunctions = ss.EventRecorder(sim, lambda sim, i: np.sin(sim.particles[i].theta - sim.particles[i+1].theta), targets=[])"
   ]
  },
  {
   "cell_type": "markdown",
   "metadata": {},
   "source": [
    "We start by staggering in the planet transits, 4 outer planet orbits at a time, from the outside inward, by changing `transits.targets`."
   ]
  },
  {
   "cell_type": "code",
   "execution_count": 7,
   "metadata": {
    "collapsed": false
   },
   "outputs": [
    {
     "name": "stdout",
     "output_type": "stream",
     "text": [
      "[7]\n",
      "[6, 7]\n",
      "[5, 6, 7]\n",
      "[4, 5, 6, 7]\n",
      "[3, 4, 5, 6, 7]\n",
      "[2, 3, 4, 5, 6, 7]\n",
      "[1, 2, 3, 4, 5, 6, 7]\n"
     ]
    }
   ],
   "source": [
    "planets = list(range(sim.N))\n",
    "for i in range(1,8):\n",
    "    ps = planets[-i:]\n",
    "    transits.targets = ps\n",
    "    print(transits.targets)\n",
    "    sim.integrate(tmax=sim.t+4)"
   ]
  },
  {
   "cell_type": "markdown",
   "metadata": {},
   "source": [
    "We now stagger in conjunctions starting from the outermost pair, leaving in all the planets for the transits:"
   ]
  },
  {
   "cell_type": "code",
   "execution_count": 8,
   "metadata": {
    "collapsed": false
   },
   "outputs": [
    {
     "name": "stdout",
     "output_type": "stream",
     "text": [
      "[6]\n",
      "[5, 6]\n",
      "[4, 5, 6]\n",
      "[3, 4, 5, 6]\n",
      "[2, 3, 4, 5, 6]\n",
      "[1, 2, 3, 4, 5, 6]\n"
     ]
    }
   ],
   "source": [
    "planets = list(range(sim.N-1))\n",
    "for i in range(1,7):\n",
    "    ps = planets[-i:]\n",
    "    conjunctions.targets = ps\n",
    "    print(conjunctions.targets)\n",
    "    sim.integrate(tmax=sim.t+4)"
   ]
  },
  {
   "cell_type": "markdown",
   "metadata": {},
   "source": [
    "# Making the MIDI\n",
    "\n",
    "We need to set a tempo in beats per minute, where 1 beat corresponds to one time unit in the simulation. Here we set bpm=30, which means that there are 2 seconds per simulation time unit = one outer planet orbit. We then make the MIDI file and set the tempo:"
   ]
  },
  {
   "cell_type": "code",
   "execution_count": 9,
   "metadata": {
    "collapsed": true
   },
   "outputs": [],
   "source": [
    "from midiutil import MIDIFile\n",
    "\n",
    "bpm = 30\n",
    "midifile = MIDIFile(adjust_origin=True)\n",
    "midifile.addTempo(track=0, time=0, tempo=bpm) "
   ]
  },
  {
   "cell_type": "markdown",
   "metadata": {},
   "source": [
    "Now we need to decide on MIDI notes for the transits and conjunctions. We use the `calc_midi_notes` function to scale all notes relative to the outermost (ref_ID=-1) particle, and assign to that planet a MIDI note of 48=C4. See e.g.  http://subsynth.sourceforge.net/midinote2freq.html for a list of MIDI notes. We then manually assign notes to the conjunctions.\n",
    "\n",
    "Finally, we step through the list of transits and conjunctions, and add the corresponding note for each of them, depending on the transiting planet or conjunction pair, at the time of the event. One can also set the note duration and velocity (volume). Here we add planet transits onto separate channels, and the conjunctions all into one channel above the others."
   ]
  },
  {
   "cell_type": "code",
   "execution_count": 10,
   "metadata": {
    "collapsed": true
   },
   "outputs": [],
   "source": [
    "transit_notes = ss.calc_midi_notes(sim.particles, ref_note=48, ref_ID=-1)\n",
    "conjunction_notes = [0, 33, 35, 20, 18, 14, 12]\n",
    "\n",
    "for transit in transits.events:\n",
    "    midifile.addNote(track=0, channel=transit['target'], pitch=transit_notes[transit['target']], time=transit['time'], duration=1, volume=100)\n",
    "for conjunction in conjunctions.events:\n",
    "    midifile.addNote(track=0, channel=sim.N, pitch=conjunction_notes[conjunction['target']], time=conjunction['time'], duration=1, volume=100)"
   ]
  },
  {
   "cell_type": "markdown",
   "metadata": {},
   "source": [
    "Finally, we write the file:"
   ]
  },
  {
   "cell_type": "code",
   "execution_count": 11,
   "metadata": {
    "collapsed": true
   },
   "outputs": [],
   "source": [
    "with open(\"./trappist.mid\", \"wb\") as f:\n",
    "    midifile.writeFile(f)"
   ]
  }
 ],
 "metadata": {
  "kernelspec": {
   "display_name": "Python 3",
   "language": "python",
   "name": "python3"
  },
  "language_info": {
   "codemirror_mode": {
    "name": "ipython",
    "version": 3
   },
   "file_extension": ".py",
   "mimetype": "text/x-python",
   "name": "python",
   "nbconvert_exporter": "python",
   "pygments_lexer": "ipython3",
   "version": "3.5.1"
  }
 },
 "nbformat": 4,
 "nbformat_minor": 2
}
